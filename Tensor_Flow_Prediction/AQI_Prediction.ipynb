{
 "cells": [
  {
   "cell_type": "code",
   "execution_count": 9,
   "metadata": {},
   "outputs": [
    {
     "name": "stdout",
     "output_type": "stream",
     "text": [
      "1.14.0\n"
     ]
    }
   ],
   "source": [
    "from __future__ import absolute_import, division, print_function, unicode_literals\n",
    "\n",
    "import pathlib\n",
    "\n",
    "import matplotlib.pyplot as plt\n",
    "import pandas as pd\n",
    "import seaborn as sns\n",
    "\n",
    "import tensorflow as tf\n",
    "from tensorflow import keras\n",
    "from tensorflow.keras import layers\n",
    "\n",
    "print(tf.__version__)"
   ]
  },
  {
   "cell_type": "code",
   "execution_count": 10,
   "metadata": {},
   "outputs": [
    {
     "data": {
      "text/html": [
       "<div>\n",
       "<style scoped>\n",
       "    .dataframe tbody tr th:only-of-type {\n",
       "        vertical-align: middle;\n",
       "    }\n",
       "\n",
       "    .dataframe tbody tr th {\n",
       "        vertical-align: top;\n",
       "    }\n",
       "\n",
       "    .dataframe thead th {\n",
       "        text-align: right;\n",
       "    }\n",
       "</style>\n",
       "<table border=\"1\" class=\"dataframe\">\n",
       "  <thead>\n",
       "    <tr style=\"text-align: right;\">\n",
       "      <th></th>\n",
       "      <th>SO2</th>\n",
       "      <th>NO2</th>\n",
       "      <th>O3</th>\n",
       "      <th>PM2.5</th>\n",
       "      <th>PM10</th>\n",
       "      <th>AT</th>\n",
       "      <th>WD</th>\n",
       "      <th>WS</th>\n",
       "      <th>RH</th>\n",
       "      <th>AQI</th>\n",
       "    </tr>\n",
       "  </thead>\n",
       "  <tbody>\n",
       "    <tr>\n",
       "      <th>1211</th>\n",
       "      <td>10.59</td>\n",
       "      <td>71.42</td>\n",
       "      <td>58.083535</td>\n",
       "      <td>183.35</td>\n",
       "      <td>490.73</td>\n",
       "      <td>21.26</td>\n",
       "      <td>281.16</td>\n",
       "      <td>1.11</td>\n",
       "      <td>46.31</td>\n",
       "      <td>486.699565</td>\n",
       "    </tr>\n",
       "    <tr>\n",
       "      <th>1212</th>\n",
       "      <td>8.04</td>\n",
       "      <td>18.32</td>\n",
       "      <td>16.492738</td>\n",
       "      <td>211.56</td>\n",
       "      <td>497.73</td>\n",
       "      <td>20.97</td>\n",
       "      <td>266.64</td>\n",
       "      <td>0.58</td>\n",
       "      <td>47.66</td>\n",
       "      <td>496.743043</td>\n",
       "    </tr>\n",
       "    <tr>\n",
       "      <th>1213</th>\n",
       "      <td>24.11</td>\n",
       "      <td>12.23</td>\n",
       "      <td>11.733019</td>\n",
       "      <td>225.89</td>\n",
       "      <td>697.16</td>\n",
       "      <td>21.70</td>\n",
       "      <td>134.50</td>\n",
       "      <td>0.81</td>\n",
       "      <td>49.94</td>\n",
       "      <td>782.881739</td>\n",
       "    </tr>\n",
       "    <tr>\n",
       "      <th>1214</th>\n",
       "      <td>20.35</td>\n",
       "      <td>10.84</td>\n",
       "      <td>79.467810</td>\n",
       "      <td>268.73</td>\n",
       "      <td>631.05</td>\n",
       "      <td>22.09</td>\n",
       "      <td>90.84</td>\n",
       "      <td>1.51</td>\n",
       "      <td>50.27</td>\n",
       "      <td>688.028261</td>\n",
       "    </tr>\n",
       "    <tr>\n",
       "      <th>1215</th>\n",
       "      <td>19.45</td>\n",
       "      <td>10.24</td>\n",
       "      <td>102.297460</td>\n",
       "      <td>236.23</td>\n",
       "      <td>579.75</td>\n",
       "      <td>22.48</td>\n",
       "      <td>205.79</td>\n",
       "      <td>0.46</td>\n",
       "      <td>54.56</td>\n",
       "      <td>614.423913</td>\n",
       "    </tr>\n",
       "  </tbody>\n",
       "</table>\n",
       "</div>"
      ],
      "text/plain": [
       "        SO2    NO2          O3   PM2.5    PM10     AT      WD    WS     RH  \\\n",
       "1211  10.59  71.42   58.083535  183.35  490.73  21.26  281.16  1.11  46.31   \n",
       "1212   8.04  18.32   16.492738  211.56  497.73  20.97  266.64  0.58  47.66   \n",
       "1213  24.11  12.23   11.733019  225.89  697.16  21.70  134.50  0.81  49.94   \n",
       "1214  20.35  10.84   79.467810  268.73  631.05  22.09   90.84  1.51  50.27   \n",
       "1215  19.45  10.24  102.297460  236.23  579.75  22.48  205.79  0.46  54.56   \n",
       "\n",
       "             AQI  \n",
       "1211  486.699565  \n",
       "1212  496.743043  \n",
       "1213  782.881739  \n",
       "1214  688.028261  \n",
       "1215  614.423913  "
      ]
     },
     "execution_count": 10,
     "metadata": {},
     "output_type": "execute_result"
    }
   ],
   "source": [
    "raw_dataset = pd.read_csv(\"AQI.csv\")\n",
    "\n",
    "dataset = raw_dataset.copy()\n",
    "dataset.tail()"
   ]
  },
  {
   "cell_type": "code",
   "execution_count": 11,
   "metadata": {},
   "outputs": [
    {
     "data": {
      "text/plain": [
       "SO2      0\n",
       "NO2      0\n",
       "O3       0\n",
       "PM2.5    0\n",
       "PM10     0\n",
       "AT       0\n",
       "WD       0\n",
       "WS       0\n",
       "RH       0\n",
       "AQI      0\n",
       "dtype: int64"
      ]
     },
     "execution_count": 11,
     "metadata": {},
     "output_type": "execute_result"
    }
   ],
   "source": [
    "dataset.isna().sum()"
   ]
  },
  {
   "cell_type": "code",
   "execution_count": 12,
   "metadata": {},
   "outputs": [],
   "source": [
    "train_dataset = dataset.sample(frac=0.8,random_state=0)\n",
    "test_dataset = dataset.drop(train_dataset.index)"
   ]
  },
  {
   "cell_type": "code",
   "execution_count": 13,
   "metadata": {},
   "outputs": [
    {
     "data": {
      "text/html": [
       "<div>\n",
       "<style scoped>\n",
       "    .dataframe tbody tr th:only-of-type {\n",
       "        vertical-align: middle;\n",
       "    }\n",
       "\n",
       "    .dataframe tbody tr th {\n",
       "        vertical-align: top;\n",
       "    }\n",
       "\n",
       "    .dataframe thead th {\n",
       "        text-align: right;\n",
       "    }\n",
       "</style>\n",
       "<table border=\"1\" class=\"dataframe\">\n",
       "  <thead>\n",
       "    <tr style=\"text-align: right;\">\n",
       "      <th></th>\n",
       "      <th>count</th>\n",
       "      <th>mean</th>\n",
       "      <th>std</th>\n",
       "      <th>min</th>\n",
       "      <th>25%</th>\n",
       "      <th>50%</th>\n",
       "      <th>75%</th>\n",
       "      <th>max</th>\n",
       "    </tr>\n",
       "  </thead>\n",
       "  <tbody>\n",
       "    <tr>\n",
       "      <th>SO2</th>\n",
       "      <td>973.0</td>\n",
       "      <td>21.098412</td>\n",
       "      <td>22.530118</td>\n",
       "      <td>0.960</td>\n",
       "      <td>11.72</td>\n",
       "      <td>18.70</td>\n",
       "      <td>25.050000</td>\n",
       "      <td>607.90</td>\n",
       "    </tr>\n",
       "    <tr>\n",
       "      <th>NO2</th>\n",
       "      <td>973.0</td>\n",
       "      <td>90.674049</td>\n",
       "      <td>50.454199</td>\n",
       "      <td>0.240</td>\n",
       "      <td>54.81</td>\n",
       "      <td>83.85</td>\n",
       "      <td>117.100000</td>\n",
       "      <td>408.93</td>\n",
       "    </tr>\n",
       "    <tr>\n",
       "      <th>O3</th>\n",
       "      <td>973.0</td>\n",
       "      <td>33.733917</td>\n",
       "      <td>24.764774</td>\n",
       "      <td>3.330</td>\n",
       "      <td>16.26</td>\n",
       "      <td>25.47</td>\n",
       "      <td>41.633981</td>\n",
       "      <td>120.84</td>\n",
       "    </tr>\n",
       "    <tr>\n",
       "      <th>PM2.5</th>\n",
       "      <td>973.0</td>\n",
       "      <td>155.500336</td>\n",
       "      <td>113.989571</td>\n",
       "      <td>20.260</td>\n",
       "      <td>68.85</td>\n",
       "      <td>119.95</td>\n",
       "      <td>212.930000</td>\n",
       "      <td>848.55</td>\n",
       "    </tr>\n",
       "    <tr>\n",
       "      <th>PM10</th>\n",
       "      <td>973.0</td>\n",
       "      <td>413.082360</td>\n",
       "      <td>232.295493</td>\n",
       "      <td>17.194</td>\n",
       "      <td>232.17</td>\n",
       "      <td>384.20</td>\n",
       "      <td>559.560000</td>\n",
       "      <td>1790.75</td>\n",
       "    </tr>\n",
       "    <tr>\n",
       "      <th>AT</th>\n",
       "      <td>973.0</td>\n",
       "      <td>27.458926</td>\n",
       "      <td>6.760468</td>\n",
       "      <td>10.300</td>\n",
       "      <td>22.09</td>\n",
       "      <td>29.52</td>\n",
       "      <td>32.430000</td>\n",
       "      <td>41.54</td>\n",
       "    </tr>\n",
       "    <tr>\n",
       "      <th>WD</th>\n",
       "      <td>973.0</td>\n",
       "      <td>188.517778</td>\n",
       "      <td>62.326196</td>\n",
       "      <td>63.740</td>\n",
       "      <td>131.93</td>\n",
       "      <td>195.41</td>\n",
       "      <td>245.710000</td>\n",
       "      <td>301.26</td>\n",
       "    </tr>\n",
       "    <tr>\n",
       "      <th>WS</th>\n",
       "      <td>973.0</td>\n",
       "      <td>1.369221</td>\n",
       "      <td>0.993623</td>\n",
       "      <td>0.300</td>\n",
       "      <td>0.68</td>\n",
       "      <td>1.11</td>\n",
       "      <td>1.800000</td>\n",
       "      <td>13.85</td>\n",
       "    </tr>\n",
       "    <tr>\n",
       "      <th>RH</th>\n",
       "      <td>973.0</td>\n",
       "      <td>50.530808</td>\n",
       "      <td>15.297263</td>\n",
       "      <td>6.520</td>\n",
       "      <td>40.71</td>\n",
       "      <td>51.02</td>\n",
       "      <td>60.960000</td>\n",
       "      <td>90.57</td>\n",
       "    </tr>\n",
       "  </tbody>\n",
       "</table>\n",
       "</div>"
      ],
      "text/plain": [
       "       count        mean         std     min     25%     50%         75%  \\\n",
       "SO2    973.0   21.098412   22.530118   0.960   11.72   18.70   25.050000   \n",
       "NO2    973.0   90.674049   50.454199   0.240   54.81   83.85  117.100000   \n",
       "O3     973.0   33.733917   24.764774   3.330   16.26   25.47   41.633981   \n",
       "PM2.5  973.0  155.500336  113.989571  20.260   68.85  119.95  212.930000   \n",
       "PM10   973.0  413.082360  232.295493  17.194  232.17  384.20  559.560000   \n",
       "AT     973.0   27.458926    6.760468  10.300   22.09   29.52   32.430000   \n",
       "WD     973.0  188.517778   62.326196  63.740  131.93  195.41  245.710000   \n",
       "WS     973.0    1.369221    0.993623   0.300    0.68    1.11    1.800000   \n",
       "RH     973.0   50.530808   15.297263   6.520   40.71   51.02   60.960000   \n",
       "\n",
       "           max  \n",
       "SO2     607.90  \n",
       "NO2     408.93  \n",
       "O3      120.84  \n",
       "PM2.5   848.55  \n",
       "PM10   1790.75  \n",
       "AT       41.54  \n",
       "WD      301.26  \n",
       "WS       13.85  \n",
       "RH       90.57  "
      ]
     },
     "execution_count": 13,
     "metadata": {},
     "output_type": "execute_result"
    }
   ],
   "source": [
    "train_stats = train_dataset.describe()\n",
    "train_stats.pop(\"AQI\")\n",
    "train_stats = train_stats.transpose()\n",
    "train_stats"
   ]
  },
  {
   "cell_type": "code",
   "execution_count": 14,
   "metadata": {},
   "outputs": [],
   "source": [
    "train_labels = train_dataset.pop('AQI')\n",
    "test_labels = test_dataset.pop('AQI')"
   ]
  },
  {
   "cell_type": "code",
   "execution_count": 15,
   "metadata": {},
   "outputs": [],
   "source": [
    "def norm(x):\n",
    "  return (x - train_stats['mean']) / train_stats['std']\n",
    "normed_train_data = norm(train_dataset)\n",
    "normed_test_data = norm(test_dataset)"
   ]
  },
  {
   "cell_type": "code",
   "execution_count": 16,
   "metadata": {},
   "outputs": [],
   "source": [
    "def build_model():\n",
    "  model = keras.Sequential([\n",
    "    layers.Dense(64, activation=tf.nn.relu, input_shape=[len(train_dataset.keys())]),\n",
    "    layers.Dense(64, activation=tf.nn.relu),\n",
    "    layers.Dense(1)\n",
    "  ])\n",
    "\n",
    "  optimizer = tf.keras.optimizers.RMSprop(0.001)\n",
    "\n",
    "  model.compile(loss='mean_squared_error',\n",
    "                optimizer=optimizer,\n",
    "                metrics=['mean_absolute_error', 'mean_squared_error'])\n",
    "  return model"
   ]
  },
  {
   "cell_type": "code",
   "execution_count": 17,
   "metadata": {},
   "outputs": [
    {
     "name": "stderr",
     "output_type": "stream",
     "text": [
      "WARNING: Logging before flag parsing goes to stderr.\n",
      "W0708 18:21:37.723933 140352001050432 deprecation.py:506] From /home/shivamkapila/anaconda3/lib/python3.7/site-packages/tensorflow/python/ops/init_ops.py:1251: calling VarianceScaling.__init__ (from tensorflow.python.ops.init_ops) with dtype is deprecated and will be removed in a future version.\n",
      "Instructions for updating:\n",
      "Call initializer instance with the dtype argument instead of passing it to the constructor\n"
     ]
    }
   ],
   "source": [
    "model = build_model()"
   ]
  },
  {
   "cell_type": "code",
   "execution_count": 18,
   "metadata": {},
   "outputs": [
    {
     "name": "stdout",
     "output_type": "stream",
     "text": [
      "Model: \"sequential\"\n",
      "_________________________________________________________________\n",
      "Layer (type)                 Output Shape              Param #   \n",
      "=================================================================\n",
      "dense (Dense)                (None, 64)                640       \n",
      "_________________________________________________________________\n",
      "dense_1 (Dense)              (None, 64)                4160      \n",
      "_________________________________________________________________\n",
      "dense_2 (Dense)              (None, 1)                 65        \n",
      "=================================================================\n",
      "Total params: 4,865\n",
      "Trainable params: 4,865\n",
      "Non-trainable params: 0\n",
      "_________________________________________________________________\n"
     ]
    }
   ],
   "source": [
    "model.summary()"
   ]
  },
  {
   "cell_type": "code",
   "execution_count": 19,
   "metadata": {},
   "outputs": [
    {
     "data": {
      "text/plain": [
       "array([[ 0.25282097],\n",
       "       [-0.14064158],\n",
       "       [-0.35119927],\n",
       "       [-0.2578844 ],\n",
       "       [-0.3892152 ],\n",
       "       [-0.0767258 ],\n",
       "       [-0.20224997],\n",
       "       [-0.3449547 ],\n",
       "       [-0.32446316],\n",
       "       [-0.53360057]], dtype=float32)"
      ]
     },
     "execution_count": 19,
     "metadata": {},
     "output_type": "execute_result"
    }
   ],
   "source": [
    "example_batch = normed_train_data[:10]\n",
    "example_result = model.predict(example_batch)\n",
    "example_result"
   ]
  },
  {
   "cell_type": "code",
   "execution_count": 20,
   "metadata": {},
   "outputs": [
    {
     "name": "stdout",
     "output_type": "stream",
     "text": [
      "\n",
      "....................................................................................................\n",
      "....................................................................................................\n",
      "....................................................................................................\n",
      "....................................................................................................\n",
      "....................................................................................................\n",
      "....................................................................................................\n",
      "....................................................................................................\n",
      "....................................................................................................\n",
      "....................................................................................................\n",
      "...................................................................................................."
     ]
    }
   ],
   "source": [
    "class PrintDot(keras.callbacks.Callback):\n",
    "  def on_epoch_end(self, epoch, logs):\n",
    "    if epoch % 100 == 0: print('')\n",
    "    print('.', end='')\n",
    "\n",
    "EPOCHS = 1000\n",
    "\n",
    "history = model.fit(\n",
    "  normed_train_data, train_labels,\n",
    "  epochs=EPOCHS, validation_split = 0.2, verbose=0,\n",
    "  callbacks=[PrintDot()])"
   ]
  },
  {
   "cell_type": "code",
   "execution_count": 21,
   "metadata": {},
   "outputs": [
    {
     "data": {
      "text/html": [
       "<div>\n",
       "<style scoped>\n",
       "    .dataframe tbody tr th:only-of-type {\n",
       "        vertical-align: middle;\n",
       "    }\n",
       "\n",
       "    .dataframe tbody tr th {\n",
       "        vertical-align: top;\n",
       "    }\n",
       "\n",
       "    .dataframe thead th {\n",
       "        text-align: right;\n",
       "    }\n",
       "</style>\n",
       "<table border=\"1\" class=\"dataframe\">\n",
       "  <thead>\n",
       "    <tr style=\"text-align: right;\">\n",
       "      <th></th>\n",
       "      <th>loss</th>\n",
       "      <th>mean_absolute_error</th>\n",
       "      <th>mean_squared_error</th>\n",
       "      <th>val_loss</th>\n",
       "      <th>val_mean_absolute_error</th>\n",
       "      <th>val_mean_squared_error</th>\n",
       "      <th>epoch</th>\n",
       "    </tr>\n",
       "  </thead>\n",
       "  <tbody>\n",
       "    <tr>\n",
       "      <th>995</th>\n",
       "      <td>12.755303</td>\n",
       "      <td>2.522051</td>\n",
       "      <td>12.755304</td>\n",
       "      <td>53.853300</td>\n",
       "      <td>5.612715</td>\n",
       "      <td>53.853302</td>\n",
       "      <td>995</td>\n",
       "    </tr>\n",
       "    <tr>\n",
       "      <th>996</th>\n",
       "      <td>10.428885</td>\n",
       "      <td>2.316803</td>\n",
       "      <td>10.428885</td>\n",
       "      <td>54.077978</td>\n",
       "      <td>5.463131</td>\n",
       "      <td>54.077976</td>\n",
       "      <td>996</td>\n",
       "    </tr>\n",
       "    <tr>\n",
       "      <th>997</th>\n",
       "      <td>11.243253</td>\n",
       "      <td>2.522952</td>\n",
       "      <td>11.243253</td>\n",
       "      <td>48.794817</td>\n",
       "      <td>4.926564</td>\n",
       "      <td>48.794823</td>\n",
       "      <td>997</td>\n",
       "    </tr>\n",
       "    <tr>\n",
       "      <th>998</th>\n",
       "      <td>11.179961</td>\n",
       "      <td>2.424411</td>\n",
       "      <td>11.179962</td>\n",
       "      <td>63.720941</td>\n",
       "      <td>5.673755</td>\n",
       "      <td>63.720940</td>\n",
       "      <td>998</td>\n",
       "    </tr>\n",
       "    <tr>\n",
       "      <th>999</th>\n",
       "      <td>11.201714</td>\n",
       "      <td>2.442862</td>\n",
       "      <td>11.201715</td>\n",
       "      <td>56.592482</td>\n",
       "      <td>5.641842</td>\n",
       "      <td>56.592484</td>\n",
       "      <td>999</td>\n",
       "    </tr>\n",
       "  </tbody>\n",
       "</table>\n",
       "</div>"
      ],
      "text/plain": [
       "          loss  mean_absolute_error  mean_squared_error   val_loss  \\\n",
       "995  12.755303             2.522051           12.755304  53.853300   \n",
       "996  10.428885             2.316803           10.428885  54.077978   \n",
       "997  11.243253             2.522952           11.243253  48.794817   \n",
       "998  11.179961             2.424411           11.179962  63.720941   \n",
       "999  11.201714             2.442862           11.201715  56.592482   \n",
       "\n",
       "     val_mean_absolute_error  val_mean_squared_error  epoch  \n",
       "995                 5.612715               53.853302    995  \n",
       "996                 5.463131               54.077976    996  \n",
       "997                 4.926564               48.794823    997  \n",
       "998                 5.673755               63.720940    998  \n",
       "999                 5.641842               56.592484    999  "
      ]
     },
     "execution_count": 21,
     "metadata": {},
     "output_type": "execute_result"
    }
   ],
   "source": [
    "hist = pd.DataFrame(history.history)\n",
    "hist['epoch'] = history.epoch\n",
    "hist.tail()"
   ]
  },
  {
   "cell_type": "code",
   "execution_count": 22,
   "metadata": {},
   "outputs": [
    {
     "data": {
      "image/png": "[encoded data removed]",
      "text/plain": [
       "<Figure size 432x288 with 1 Axes>"
      ]
     },
     "metadata": {
      "needs_background": "light"
     },
     "output_type": "display_data"
    },
    {
     "data": {
      "image/png": "[encoded data removed]",
      "text/plain": [
       "<Figure size 432x288 with 1 Axes>"
      ]
     },
     "metadata": {
      "needs_background": "light"
     },
     "output_type": "display_data"
    }
   ],
   "source": [
    "def plot_history(history):\n",
    "  hist = pd.DataFrame(history.history)\n",
    "  hist['epoch'] = history.epoch\n",
    "\n",
    "  plt.figure()\n",
    "  plt.xlabel('Epoch')\n",
    "  plt.ylabel('Mean Abs Error [MPG]')\n",
    "  plt.plot(hist['epoch'], hist['mean_absolute_error'],\n",
    "           label='Train Error')\n",
    "  plt.plot(hist['epoch'], hist['val_mean_absolute_error'],\n",
    "           label = 'Val Error')\n",
    "  plt.ylim([0,5])\n",
    "  plt.legend()\n",
    "\n",
    "  plt.figure()\n",
    "  plt.xlabel('Epoch')\n",
    "  plt.ylabel('Mean Square Error [$MPG^2$]')\n",
    "  plt.plot(hist['epoch'], hist['mean_squared_error'],\n",
    "           label='Train Error')\n",
    "  plt.plot(hist['epoch'], hist['val_mean_squared_error'],\n",
    "           label = 'Val Error')\n",
    "  plt.ylim([0,20])\n",
    "  plt.legend()\n",
    "  plt.show()\n",
    "\n",
    "\n",
    "plot_history(history)"
   ]
  },
  {
   "cell_type": "code",
   "execution_count": 23,
   "metadata": {},
   "outputs": [
    {
     "name": "stdout",
     "output_type": "stream",
     "text": [
      "\n",
      "....................................................................................................\n",
      ".............................................................................................."
     ]
    },
    {
     "data": {
      "image/png": "[encoded data removed]",
      "text/plain": [
       "<Figure size 432x288 with 1 Axes>"
      ]
     },
     "metadata": {
      "needs_background": "light"
     },
     "output_type": "display_data"
    },
    {
     "data": {
      "image/png": "[encoded data removed]",
      "text/plain": [
       "<Figure size 432x288 with 1 Axes>"
      ]
     },
     "metadata": {
      "needs_background": "light"
     },
     "output_type": "display_data"
    }
   ],
   "source": [
    "model = build_model()\n",
    "\n",
    "# The patience parameter is the amount of epochs to check for improvement\n",
    "early_stop = keras.callbacks.EarlyStopping(monitor='val_loss', patience=10)\n",
    "\n",
    "history = model.fit(normed_train_data, train_labels, epochs=EPOCHS,\n",
    "                    validation_split = 0.2, verbose=0, callbacks=[early_stop, PrintDot()])\n",
    "\n",
    "plot_history(history)"
   ]
  },
  {
   "cell_type": "code",
   "execution_count": 25,
   "metadata": {},
   "outputs": [
    {
     "name": "stdout",
     "output_type": "stream",
     "text": [
      "Testing set Mean Abs Error:  9.25 MPG\n"
     ]
    }
   ],
   "source": [
    "loss, mae, mse = model.evaluate(normed_test_data, test_labels, verbose=0)\n",
    "print(\"Testing set Mean Abs Error: {:5.2f} MPG\".format(mae))"
   ]
  },
  {
   "cell_type": "code",
   "execution_count": 26,
   "metadata": {},
   "outputs": [
    {
     "ename": "NameError",
     "evalue": "name 'test_predictions' is not defined",
     "output_type": "error",
     "traceback": [
      "\u001b[0;31m---------------------------------------------------------------------------\u001b[0m",
      "\u001b[0;31mNameError\u001b[0m                                 Traceback (most recent call last)",
      "\u001b[0;32m<ipython-input-26-83bcd025122c>\u001b[0m in \u001b[0;36m<module>\u001b[0;34m\u001b[0m\n\u001b[0;32m----> 1\u001b[0;31m \u001b[0mplt\u001b[0m\u001b[0;34m.\u001b[0m\u001b[0mscatter\u001b[0m\u001b[0;34m(\u001b[0m\u001b[0mtest_labels\u001b[0m\u001b[0;34m,\u001b[0m \u001b[0mtest_predictions\u001b[0m\u001b[0;34m)\u001b[0m\u001b[0;34m\u001b[0m\u001b[0;34m\u001b[0m\u001b[0m\n\u001b[0m\u001b[1;32m      2\u001b[0m \u001b[0mplt\u001b[0m\u001b[0;34m.\u001b[0m\u001b[0mxlabel\u001b[0m\u001b[0;34m(\u001b[0m\u001b[0;34m'True Values [MPG]'\u001b[0m\u001b[0;34m)\u001b[0m\u001b[0;34m\u001b[0m\u001b[0;34m\u001b[0m\u001b[0m\n\u001b[1;32m      3\u001b[0m \u001b[0mplt\u001b[0m\u001b[0;34m.\u001b[0m\u001b[0mylabel\u001b[0m\u001b[0;34m(\u001b[0m\u001b[0;34m'Predictions [MPG]'\u001b[0m\u001b[0;34m)\u001b[0m\u001b[0;34m\u001b[0m\u001b[0;34m\u001b[0m\u001b[0m\n\u001b[1;32m      4\u001b[0m \u001b[0mplt\u001b[0m\u001b[0;34m.\u001b[0m\u001b[0maxis\u001b[0m\u001b[0;34m(\u001b[0m\u001b[0;34m'equal'\u001b[0m\u001b[0;34m)\u001b[0m\u001b[0;34m\u001b[0m\u001b[0;34m\u001b[0m\u001b[0m\n\u001b[1;32m      5\u001b[0m \u001b[0mplt\u001b[0m\u001b[0;34m.\u001b[0m\u001b[0maxis\u001b[0m\u001b[0;34m(\u001b[0m\u001b[0;34m'square'\u001b[0m\u001b[0;34m)\u001b[0m\u001b[0;34m\u001b[0m\u001b[0;34m\u001b[0m\u001b[0m\n",
      "\u001b[0;31mNameError\u001b[0m: name 'test_predictions' is not defined"
     ]
    }
   ],
   "source": [
    "plt.scatter(test_labels, test_predictions)\n",
    "plt.xlabel('True Values [MPG]')\n",
    "plt.ylabel('Predictions [MPG]')\n",
    "plt.axis('equal')\n",
    "plt.axis('square')\n",
    "plt.xlim([0,plt.xlim()[1]])\n",
    "plt.ylim([0,plt.ylim()[1]])\n",
    "_ = plt.plot([-100, 100], [-100, 100])\n"
   ]
  },
  {
   "cell_type": "code",
   "execution_count": null,
   "metadata": {},
   "outputs": [],
   "source": []
  }
 ],
 "metadata": {
  "kernelspec": {
   "display_name": "Python 3",
   "language": "python",
   "name": "python3"
  },
  "language_info": {
   "codemirror_mode": {
    "name": "ipython",
    "version": 3
   },
   "file_extension": ".py",
   "mimetype": "text/x-python",
   "name": "python",
   "nbconvert_exporter": "python",
   "pygments_lexer": "ipython3",
   "version": "3.7.3"
  }
 },
 "nbformat": 4,
 "nbformat_minor": 2
}
